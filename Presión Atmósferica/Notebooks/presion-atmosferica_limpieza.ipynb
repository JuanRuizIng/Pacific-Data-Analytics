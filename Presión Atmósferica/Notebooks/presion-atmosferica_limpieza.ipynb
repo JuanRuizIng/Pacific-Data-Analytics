{
 "cells": [
  {
   "cell_type": "markdown",
   "metadata": {},
   "source": [
    "## **Limpieza del CSV de \"Presión Atmosférica\"**\n",
    "----\n",
    "**Elaborado con base en**\n",
    "* [Presión Atmosférica | Datos Abiertos Colombia](https://www.datos.gov.co/Ambiente-y-Desarrollo-Sostenible/Presi-n-Atmosf-rica/62tk-nxj5/about_data)"
   ]
  },
  {
   "cell_type": "markdown",
   "metadata": {},
   "source": [
    "#### ***Importación de paquetes***"
   ]
  },
  {
   "cell_type": "code",
   "execution_count": 1,
   "metadata": {},
   "outputs": [],
   "source": [
    "import pandas as pd"
   ]
  },
  {
   "cell_type": "markdown",
   "metadata": {},
   "source": [
    "#### ***Cargar el CSV mediante Pandas***"
   ]
  },
  {
   "cell_type": "code",
   "execution_count": 2,
   "metadata": {},
   "outputs": [
    {
     "data": {
      "text/html": [
       "<div>\n",
       "<style scoped>\n",
       "    .dataframe tbody tr th:only-of-type {\n",
       "        vertical-align: middle;\n",
       "    }\n",
       "\n",
       "    .dataframe tbody tr th {\n",
       "        vertical-align: top;\n",
       "    }\n",
       "\n",
       "    .dataframe thead th {\n",
       "        text-align: right;\n",
       "    }\n",
       "</style>\n",
       "<table border=\"1\" class=\"dataframe\">\n",
       "  <thead>\n",
       "    <tr style=\"text-align: right;\">\n",
       "      <th></th>\n",
       "      <th>CodigoEstacion</th>\n",
       "      <th>CodigoSensor</th>\n",
       "      <th>FechaObservacion</th>\n",
       "      <th>ValorObservado</th>\n",
       "      <th>NombreEstacion</th>\n",
       "      <th>Departamento</th>\n",
       "      <th>Municipio</th>\n",
       "      <th>ZonaHidrografica</th>\n",
       "      <th>Latitud</th>\n",
       "      <th>Longitud</th>\n",
       "      <th>DescripcionSensor</th>\n",
       "      <th>UnidadMedida</th>\n",
       "    </tr>\n",
       "  </thead>\n",
       "  <tbody>\n",
       "    <tr>\n",
       "      <th>0</th>\n",
       "      <td>53075020</td>\n",
       "      <td>255</td>\n",
       "      <td>04/19/2012 07:00:00 AM</td>\n",
       "      <td>834.8</td>\n",
       "      <td>EL DIVISO - AUT</td>\n",
       "      <td>CAUCA</td>\n",
       "      <td>ARGELIA</td>\n",
       "      <td>TAPAJE - DAGUA - DIRECTOS</td>\n",
       "      <td>2.311417</td>\n",
       "      <td>-77.258778</td>\n",
       "      <td>Presión Atmosferica (1h)</td>\n",
       "      <td>HPa</td>\n",
       "    </tr>\n",
       "    <tr>\n",
       "      <th>1</th>\n",
       "      <td>53045040</td>\n",
       "      <td>255</td>\n",
       "      <td>05/19/2011 06:00:00 PM</td>\n",
       "      <td>1011.7</td>\n",
       "      <td>AEROPUERTO GUAPI - AUT</td>\n",
       "      <td>CAUCA</td>\n",
       "      <td>GUAPI</td>\n",
       "      <td>TAPAJE - DAGUA - DIRECTOS</td>\n",
       "      <td>2.574417</td>\n",
       "      <td>-77.894750</td>\n",
       "      <td>Presión Atmosferica (1h)</td>\n",
       "      <td>HPa</td>\n",
       "    </tr>\n",
       "    <tr>\n",
       "      <th>2</th>\n",
       "      <td>22025040</td>\n",
       "      <td>255</td>\n",
       "      <td>12/03/2010 01:00:00 AM</td>\n",
       "      <td>626.1</td>\n",
       "      <td>EL DIABLO</td>\n",
       "      <td>CAUCA</td>\n",
       "      <td>PÁEZ (BELALCÁZAR)</td>\n",
       "      <td>ALTO MAGDALENA</td>\n",
       "      <td>2.978000</td>\n",
       "      <td>-76.064000</td>\n",
       "      <td>Presión Atmosferica (1h)</td>\n",
       "      <td>HPa</td>\n",
       "    </tr>\n",
       "    <tr>\n",
       "      <th>3</th>\n",
       "      <td>53045040</td>\n",
       "      <td>255</td>\n",
       "      <td>01/05/2006 01:00:00 PM</td>\n",
       "      <td>1011.4</td>\n",
       "      <td>AEROPUERTO GUAPI - AUT</td>\n",
       "      <td>CAUCA</td>\n",
       "      <td>GUAPI</td>\n",
       "      <td>TAPAJE - DAGUA - DIRECTOS</td>\n",
       "      <td>2.574417</td>\n",
       "      <td>-77.894750</td>\n",
       "      <td>Presión Atmosferica (1h)</td>\n",
       "      <td>HPa</td>\n",
       "    </tr>\n",
       "    <tr>\n",
       "      <th>4</th>\n",
       "      <td>53045040</td>\n",
       "      <td>255</td>\n",
       "      <td>02/06/2018 11:00:00 PM</td>\n",
       "      <td>1010.8</td>\n",
       "      <td>AEROPUERTO GUAPI - AUT</td>\n",
       "      <td>CAUCA</td>\n",
       "      <td>GUAPI</td>\n",
       "      <td>TAPAJE - DAGUA - DIRECTOS</td>\n",
       "      <td>2.574417</td>\n",
       "      <td>-77.894750</td>\n",
       "      <td>Presión Atmosferica (1h)</td>\n",
       "      <td>HPa</td>\n",
       "    </tr>\n",
       "    <tr>\n",
       "      <th>...</th>\n",
       "      <td>...</td>\n",
       "      <td>...</td>\n",
       "      <td>...</td>\n",
       "      <td>...</td>\n",
       "      <td>...</td>\n",
       "      <td>...</td>\n",
       "      <td>...</td>\n",
       "      <td>...</td>\n",
       "      <td>...</td>\n",
       "      <td>...</td>\n",
       "      <td>...</td>\n",
       "      <td>...</td>\n",
       "    </tr>\n",
       "    <tr>\n",
       "      <th>3001945</th>\n",
       "      <td>26075150</td>\n",
       "      <td>258</td>\n",
       "      <td>06/12/2024 03:32:00 PM</td>\n",
       "      <td>903.2</td>\n",
       "      <td>AEROPUERTO A. BONILLA</td>\n",
       "      <td>VALLE DEL CAUCA</td>\n",
       "      <td>PALMIRA</td>\n",
       "      <td>CAUCA</td>\n",
       "      <td>3.532992</td>\n",
       "      <td>-76.382500</td>\n",
       "      <td>GPRS - PRESIÓN ATMOSFÉRICA</td>\n",
       "      <td>hPA</td>\n",
       "    </tr>\n",
       "    <tr>\n",
       "      <th>3001946</th>\n",
       "      <td>26075150</td>\n",
       "      <td>258</td>\n",
       "      <td>06/12/2024 03:12:00 PM</td>\n",
       "      <td>903.3</td>\n",
       "      <td>AEROPUERTO A. BONILLA</td>\n",
       "      <td>VALLE DEL CAUCA</td>\n",
       "      <td>PALMIRA</td>\n",
       "      <td>CAUCA</td>\n",
       "      <td>3.532992</td>\n",
       "      <td>-76.382500</td>\n",
       "      <td>GPRS - PRESIÓN ATMOSFÉRICA</td>\n",
       "      <td>hPA</td>\n",
       "    </tr>\n",
       "    <tr>\n",
       "      <th>3001947</th>\n",
       "      <td>26075150</td>\n",
       "      <td>258</td>\n",
       "      <td>06/12/2024 07:24:00 PM</td>\n",
       "      <td>904.5</td>\n",
       "      <td>AEROPUERTO A. BONILLA</td>\n",
       "      <td>VALLE DEL CAUCA</td>\n",
       "      <td>PALMIRA</td>\n",
       "      <td>CAUCA</td>\n",
       "      <td>3.532992</td>\n",
       "      <td>-76.382500</td>\n",
       "      <td>GPRS - PRESIÓN ATMOSFÉRICA</td>\n",
       "      <td>hPA</td>\n",
       "    </tr>\n",
       "    <tr>\n",
       "      <th>3001948</th>\n",
       "      <td>26075150</td>\n",
       "      <td>258</td>\n",
       "      <td>06/12/2024 11:50:00 AM</td>\n",
       "      <td>906.1</td>\n",
       "      <td>AEROPUERTO A. BONILLA</td>\n",
       "      <td>VALLE DEL CAUCA</td>\n",
       "      <td>PALMIRA</td>\n",
       "      <td>CAUCA</td>\n",
       "      <td>3.532992</td>\n",
       "      <td>-76.382500</td>\n",
       "      <td>GPRS - PRESIÓN ATMOSFÉRICA</td>\n",
       "      <td>hPA</td>\n",
       "    </tr>\n",
       "    <tr>\n",
       "      <th>3001949</th>\n",
       "      <td>26075150</td>\n",
       "      <td>258</td>\n",
       "      <td>06/12/2024 05:40:00 PM</td>\n",
       "      <td>903.5</td>\n",
       "      <td>AEROPUERTO A. BONILLA</td>\n",
       "      <td>VALLE DEL CAUCA</td>\n",
       "      <td>PALMIRA</td>\n",
       "      <td>CAUCA</td>\n",
       "      <td>3.532992</td>\n",
       "      <td>-76.382500</td>\n",
       "      <td>GPRS - PRESIÓN ATMOSFÉRICA</td>\n",
       "      <td>hPA</td>\n",
       "    </tr>\n",
       "  </tbody>\n",
       "</table>\n",
       "<p>3001950 rows × 12 columns</p>\n",
       "</div>"
      ],
      "text/plain": [
       "         CodigoEstacion  CodigoSensor        FechaObservacion  ValorObservado  \\\n",
       "0              53075020           255  04/19/2012 07:00:00 AM           834.8   \n",
       "1              53045040           255  05/19/2011 06:00:00 PM          1011.7   \n",
       "2              22025040           255  12/03/2010 01:00:00 AM           626.1   \n",
       "3              53045040           255  01/05/2006 01:00:00 PM          1011.4   \n",
       "4              53045040           255  02/06/2018 11:00:00 PM          1010.8   \n",
       "...                 ...           ...                     ...             ...   \n",
       "3001945        26075150           258  06/12/2024 03:32:00 PM           903.2   \n",
       "3001946        26075150           258  06/12/2024 03:12:00 PM           903.3   \n",
       "3001947        26075150           258  06/12/2024 07:24:00 PM           904.5   \n",
       "3001948        26075150           258  06/12/2024 11:50:00 AM           906.1   \n",
       "3001949        26075150           258  06/12/2024 05:40:00 PM           903.5   \n",
       "\n",
       "                 NombreEstacion     Departamento          Municipio  \\\n",
       "0               EL DIVISO - AUT            CAUCA            ARGELIA   \n",
       "1        AEROPUERTO GUAPI - AUT            CAUCA              GUAPI   \n",
       "2                     EL DIABLO            CAUCA  PÁEZ (BELALCÁZAR)   \n",
       "3        AEROPUERTO GUAPI - AUT            CAUCA              GUAPI   \n",
       "4        AEROPUERTO GUAPI - AUT            CAUCA              GUAPI   \n",
       "...                         ...              ...                ...   \n",
       "3001945   AEROPUERTO A. BONILLA  VALLE DEL CAUCA            PALMIRA   \n",
       "3001946   AEROPUERTO A. BONILLA  VALLE DEL CAUCA            PALMIRA   \n",
       "3001947   AEROPUERTO A. BONILLA  VALLE DEL CAUCA            PALMIRA   \n",
       "3001948   AEROPUERTO A. BONILLA  VALLE DEL CAUCA            PALMIRA   \n",
       "3001949   AEROPUERTO A. BONILLA  VALLE DEL CAUCA            PALMIRA   \n",
       "\n",
       "                  ZonaHidrografica   Latitud   Longitud  \\\n",
       "0        TAPAJE - DAGUA - DIRECTOS  2.311417 -77.258778   \n",
       "1        TAPAJE - DAGUA - DIRECTOS  2.574417 -77.894750   \n",
       "2                   ALTO MAGDALENA  2.978000 -76.064000   \n",
       "3        TAPAJE - DAGUA - DIRECTOS  2.574417 -77.894750   \n",
       "4        TAPAJE - DAGUA - DIRECTOS  2.574417 -77.894750   \n",
       "...                            ...       ...        ...   \n",
       "3001945                      CAUCA  3.532992 -76.382500   \n",
       "3001946                      CAUCA  3.532992 -76.382500   \n",
       "3001947                      CAUCA  3.532992 -76.382500   \n",
       "3001948                      CAUCA  3.532992 -76.382500   \n",
       "3001949                      CAUCA  3.532992 -76.382500   \n",
       "\n",
       "                  DescripcionSensor UnidadMedida  \n",
       "0          Presión Atmosferica (1h)          HPa  \n",
       "1          Presión Atmosferica (1h)          HPa  \n",
       "2          Presión Atmosferica (1h)          HPa  \n",
       "3          Presión Atmosferica (1h)          HPa  \n",
       "4          Presión Atmosferica (1h)          HPa  \n",
       "...                             ...          ...  \n",
       "3001945  GPRS - PRESIÓN ATMOSFÉRICA          hPA  \n",
       "3001946  GPRS - PRESIÓN ATMOSFÉRICA          hPA  \n",
       "3001947  GPRS - PRESIÓN ATMOSFÉRICA          hPA  \n",
       "3001948  GPRS - PRESIÓN ATMOSFÉRICA          hPA  \n",
       "3001949  GPRS - PRESIÓN ATMOSFÉRICA          hPA  \n",
       "\n",
       "[3001950 rows x 12 columns]"
      ]
     },
     "execution_count": 2,
     "metadata": {},
     "output_type": "execute_result"
    }
   ],
   "source": [
    "df = pd.read_csv(\"../CSV/Presion_Atmosferica_20240614.csv\")\n",
    "df"
   ]
  },
  {
   "cell_type": "markdown",
   "metadata": {},
   "source": [
    "#### ***Liberarnos de ciertas columnas***"
   ]
  },
  {
   "cell_type": "code",
   "execution_count": 3,
   "metadata": {},
   "outputs": [
    {
     "data": {
      "text/html": [
       "<div>\n",
       "<style scoped>\n",
       "    .dataframe tbody tr th:only-of-type {\n",
       "        vertical-align: middle;\n",
       "    }\n",
       "\n",
       "    .dataframe tbody tr th {\n",
       "        vertical-align: top;\n",
       "    }\n",
       "\n",
       "    .dataframe thead th {\n",
       "        text-align: right;\n",
       "    }\n",
       "</style>\n",
       "<table border=\"1\" class=\"dataframe\">\n",
       "  <thead>\n",
       "    <tr style=\"text-align: right;\">\n",
       "      <th></th>\n",
       "      <th>FechaObservacion</th>\n",
       "      <th>ValorObservado</th>\n",
       "      <th>Departamento</th>\n",
       "      <th>Municipio</th>\n",
       "      <th>ZonaHidrografica</th>\n",
       "      <th>Latitud</th>\n",
       "      <th>Longitud</th>\n",
       "    </tr>\n",
       "  </thead>\n",
       "  <tbody>\n",
       "    <tr>\n",
       "      <th>0</th>\n",
       "      <td>04/19/2012 07:00:00 AM</td>\n",
       "      <td>834.8</td>\n",
       "      <td>CAUCA</td>\n",
       "      <td>ARGELIA</td>\n",
       "      <td>TAPAJE - DAGUA - DIRECTOS</td>\n",
       "      <td>2.311417</td>\n",
       "      <td>-77.258778</td>\n",
       "    </tr>\n",
       "    <tr>\n",
       "      <th>1</th>\n",
       "      <td>05/19/2011 06:00:00 PM</td>\n",
       "      <td>1011.7</td>\n",
       "      <td>CAUCA</td>\n",
       "      <td>GUAPI</td>\n",
       "      <td>TAPAJE - DAGUA - DIRECTOS</td>\n",
       "      <td>2.574417</td>\n",
       "      <td>-77.894750</td>\n",
       "    </tr>\n",
       "    <tr>\n",
       "      <th>2</th>\n",
       "      <td>12/03/2010 01:00:00 AM</td>\n",
       "      <td>626.1</td>\n",
       "      <td>CAUCA</td>\n",
       "      <td>PÁEZ (BELALCÁZAR)</td>\n",
       "      <td>ALTO MAGDALENA</td>\n",
       "      <td>2.978000</td>\n",
       "      <td>-76.064000</td>\n",
       "    </tr>\n",
       "    <tr>\n",
       "      <th>3</th>\n",
       "      <td>01/05/2006 01:00:00 PM</td>\n",
       "      <td>1011.4</td>\n",
       "      <td>CAUCA</td>\n",
       "      <td>GUAPI</td>\n",
       "      <td>TAPAJE - DAGUA - DIRECTOS</td>\n",
       "      <td>2.574417</td>\n",
       "      <td>-77.894750</td>\n",
       "    </tr>\n",
       "    <tr>\n",
       "      <th>4</th>\n",
       "      <td>02/06/2018 11:00:00 PM</td>\n",
       "      <td>1010.8</td>\n",
       "      <td>CAUCA</td>\n",
       "      <td>GUAPI</td>\n",
       "      <td>TAPAJE - DAGUA - DIRECTOS</td>\n",
       "      <td>2.574417</td>\n",
       "      <td>-77.894750</td>\n",
       "    </tr>\n",
       "  </tbody>\n",
       "</table>\n",
       "</div>"
      ],
      "text/plain": [
       "         FechaObservacion  ValorObservado Departamento          Municipio  \\\n",
       "0  04/19/2012 07:00:00 AM           834.8        CAUCA            ARGELIA   \n",
       "1  05/19/2011 06:00:00 PM          1011.7        CAUCA              GUAPI   \n",
       "2  12/03/2010 01:00:00 AM           626.1        CAUCA  PÁEZ (BELALCÁZAR)   \n",
       "3  01/05/2006 01:00:00 PM          1011.4        CAUCA              GUAPI   \n",
       "4  02/06/2018 11:00:00 PM          1010.8        CAUCA              GUAPI   \n",
       "\n",
       "            ZonaHidrografica   Latitud   Longitud  \n",
       "0  TAPAJE - DAGUA - DIRECTOS  2.311417 -77.258778  \n",
       "1  TAPAJE - DAGUA - DIRECTOS  2.574417 -77.894750  \n",
       "2             ALTO MAGDALENA  2.978000 -76.064000  \n",
       "3  TAPAJE - DAGUA - DIRECTOS  2.574417 -77.894750  \n",
       "4  TAPAJE - DAGUA - DIRECTOS  2.574417 -77.894750  "
      ]
     },
     "execution_count": 3,
     "metadata": {},
     "output_type": "execute_result"
    }
   ],
   "source": [
    "df = df.drop([\"CodigoSensor\", \"CodigoEstacion\", \"NombreEstacion\", \"DescripcionSensor\", \"UnidadMedida\"], axis=1)\n",
    "df.head()"
   ]
  },
  {
   "cell_type": "markdown",
   "metadata": {},
   "source": [
    "#### ***Enfocarnos en los departamentos de la región Pacífica***"
   ]
  },
  {
   "cell_type": "code",
   "execution_count": 4,
   "metadata": {},
   "outputs": [
    {
     "data": {
      "text/plain": [
       "Departamento\n",
       "VALLE DEL CAUCA    951789\n",
       "NARIÑO             939152\n",
       "CAUCA              541934\n",
       "CHOCÓ              444757\n",
       "CHOCO               99935\n",
       "NARINO              24383\n",
       "Name: count, dtype: int64"
      ]
     },
     "execution_count": 4,
     "metadata": {},
     "output_type": "execute_result"
    }
   ],
   "source": [
    "#df.head()\n",
    "df[\"Departamento\"].value_counts()"
   ]
  },
  {
   "cell_type": "markdown",
   "metadata": {},
   "source": [
    "#### ***Limpieza en los departamentos***"
   ]
  },
  {
   "cell_type": "code",
   "execution_count": 5,
   "metadata": {},
   "outputs": [
    {
     "data": {
      "text/plain": [
       "Departamento\n",
       "NARIÑO             963535\n",
       "VALLE DEL CAUCA    951789\n",
       "CHOCÓ              544692\n",
       "CAUCA              541934\n",
       "Name: count, dtype: int64"
      ]
     },
     "execution_count": 5,
     "metadata": {},
     "output_type": "execute_result"
    }
   ],
   "source": [
    "diccionario_reemplazo = {\n",
    "    \"CHOCO\": \"CHOCÓ\",\n",
    "    \"NARINO\": \"NARIÑO\"\n",
    "}\n",
    "\n",
    "df[\"Departamento\"] = df[\"Departamento\"].replace(diccionario_reemplazo)\n",
    "df[\"Departamento\"].value_counts()"
   ]
  },
  {
   "cell_type": "markdown",
   "metadata": {},
   "source": [
    "#### ***Transformar el formato de la fecha y añadir columnas \"Año\" y \"Mes\"***"
   ]
  },
  {
   "cell_type": "code",
   "execution_count": 6,
   "metadata": {},
   "outputs": [],
   "source": [
    "df[\"FechaObservacion\"] = df[\"FechaObservacion\"].astype(str)\n",
    "\n",
    "df[\"FechaObservacion\"] = df[\"FechaObservacion\"].str.split(' ').str[0]\n",
    "\n",
    "df[\"FechaObservacion\"] = pd.to_datetime(df[\"FechaObservacion\"])\n",
    "\n",
    "df[\"Año\"] = df[\"FechaObservacion\"].dt.year\n",
    "df[\"Mes\"] = df[\"FechaObservacion\"].dt.month\n",
    "\n",
    "df[\"FechaObservacion\"] = df[\"FechaObservacion\"].dt.date\n",
    "\n",
    "# Reorganizar las columnas\n",
    "cols = ['Año', 'Mes'] + [col for col in df.columns if col not in ['Año', 'Mes']]\n",
    "df = df[cols]"
   ]
  },
  {
   "cell_type": "markdown",
   "metadata": {},
   "source": [
    "#### ***Eliminar datos que no se encuentren en el rango de año de 2003 a 2023***"
   ]
  },
  {
   "cell_type": "code",
   "execution_count": 7,
   "metadata": {},
   "outputs": [
    {
     "data": {
      "text/plain": [
       "Año\n",
       "2019    357774\n",
       "2018    269301\n",
       "2020    205823\n",
       "2023    181996\n",
       "2017    168248\n",
       "2015    151612\n",
       "2021    148297\n",
       "2022    145590\n",
       "2016    144463\n",
       "2008    132202\n",
       "2010    131931\n",
       "2009    127298\n",
       "2014    125888\n",
       "2007    117093\n",
       "2011    108239\n",
       "2013    104120\n",
       "2006    100518\n",
       "2012     81643\n",
       "2005     35386\n",
       "2003        67\n",
       "2004        61\n",
       "Name: count, dtype: int64"
      ]
     },
     "execution_count": 7,
     "metadata": {},
     "output_type": "execute_result"
    }
   ],
   "source": [
    "df = df[(df['Año'] >= 2003) & (df['Año'] <= 2023)]\n",
    "df[\"Año\"].value_counts()"
   ]
  },
  {
   "cell_type": "markdown",
   "metadata": {},
   "source": [
    "#### ***Guardar la nueva versión del dataset***"
   ]
  },
  {
   "cell_type": "code",
   "execution_count": 8,
   "metadata": {},
   "outputs": [],
   "source": [
    "df.to_csv(\"../PresionAtmosferica_RegionPacifico.csv\", index=False)"
   ]
  }
 ],
 "metadata": {
  "kernelspec": {
   "display_name": "Python 3",
   "language": "python",
   "name": "python3"
  },
  "language_info": {
   "codemirror_mode": {
    "name": "ipython",
    "version": 3
   },
   "file_extension": ".py",
   "mimetype": "text/x-python",
   "name": "python",
   "nbconvert_exporter": "python",
   "pygments_lexer": "ipython3",
   "version": "3.12.3"
  }
 },
 "nbformat": 4,
 "nbformat_minor": 2
}
