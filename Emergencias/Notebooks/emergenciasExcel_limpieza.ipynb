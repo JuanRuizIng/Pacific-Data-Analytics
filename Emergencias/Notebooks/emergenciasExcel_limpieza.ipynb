{
 "cells": [
  {
   "cell_type": "markdown",
   "metadata": {},
   "source": [
    "## **Limpieza de los archivos Excel de \"Emergencias UNGRD\"**\n",
    "----"
   ]
  },
  {
   "cell_type": "markdown",
   "metadata": {},
   "source": [
    "#### ***Importación de paquetes***"
   ]
  },
  {
   "cell_type": "code",
   "execution_count": 2,
   "metadata": {},
   "outputs": [],
   "source": [
    "import pandas as pd"
   ]
  },
  {
   "cell_type": "markdown",
   "metadata": {},
   "source": [
    "### ***Cargar los datasets mediante Pandas***"
   ]
  },
  {
   "cell_type": "code",
   "execution_count": 3,
   "metadata": {},
   "outputs": [],
   "source": [
    "df_2003 = pd.read_excel('../Excel (2003 - 2018, 2023)/EMERGENCIAS-2003.xls', sheet_name='REPORTE DE EMERGENCIAS', skiprows=1)"
   ]
  },
  {
   "cell_type": "markdown",
   "metadata": {},
   "source": [
    "## **Procesamiento de los datos**\n",
    "---\n"
   ]
  },
  {
   "cell_type": "markdown",
   "metadata": {},
   "source": [
    "### ***Declarar función para realizar la limpieza***"
   ]
  },
  {
   "cell_type": "code",
   "execution_count": 4,
   "metadata": {},
   "outputs": [],
   "source": [
    "def limpiar_datos_emergencias(filepath, end_row, sheet_name='REPORTE DE EMERGENCIAS', skip_rows=1):\n",
    "    # Leer el archivo Excel\n",
    "    df = pd.read_excel(filepath, sheet_name=sheet_name, skiprows=skip_rows)\n",
    "    \n",
    "    # Seleccionar filas y columnas relevantes\n",
    "    df = df[0:end_row]  # Restar 1 y el valor de skip_rows para que incluya la fila deseada\n",
    "    df = df[[\"FECHA\", \"DEPTO\", \"MUNICIPIO\", \"EVENTO\", \"MUERTOS\", \"HERIDOS\", \"DESAPA.\", \"PERSONAS\", \"FAMILIAS\", \"VIV.DESTRU.\", \"VIAS\", \"HECTAREAS\"]]\n",
    "    \n",
    "    # Rellenar valores faltantes con cero y convertir tipos de datos\n",
    "    df.fillna(0, inplace=True)\n",
    "    df = df.astype({\n",
    "        'MUERTOS': int, \n",
    "        'HERIDOS': int, \n",
    "        'DESAPA.': int, \n",
    "        'PERSONAS': int, \n",
    "        'FAMILIAS': int, \n",
    "        'VIV.DESTRU.': int, \n",
    "        'VIAS': int, \n",
    "        'HECTAREAS': int\n",
    "    })\n",
    "    \n",
    "    # Convertir la columna de fechas y extraer el año y el mes\n",
    "    df['FECHA'] = pd.to_datetime(df['FECHA'])\n",
    "    df['AÑO'] = df['FECHA'].dt.year\n",
    "    df['MES'] = df['FECHA'].dt.month\n",
    "    \n",
    "    # Reorganizar las columnas\n",
    "    cols = ['AÑO', 'MES'] + [col for col in df.columns if col not in ['AÑO', 'MES']]\n",
    "    df = df[cols]\n",
    "    \n",
    "    # Renombrar columnas\n",
    "    df = df.rename(columns={\n",
    "        'DEPTO': 'DEPARTAMENTO',\n",
    "        'MUERTOS': 'FALLECIDOS',\n",
    "        'DESAPA.': 'DESAPARECIDOS',\n",
    "        'VIV.DESTRU.': 'VIVIENDAS'\n",
    "    })\n",
    "    \n",
    "    return df"
   ]
  },
  {
   "cell_type": "markdown",
   "metadata": {},
   "source": [
    "### ***Procesar CSVs***\n",
    "---"
   ]
  },
  {
   "cell_type": "markdown",
   "metadata": {},
   "source": [
    "#### ***2003***"
   ]
  },
  {
   "cell_type": "code",
   "execution_count": 5,
   "metadata": {},
   "outputs": [],
   "source": [
    "df_2003 = limpiar_datos_emergencias('../Excel (2003 - 2018, 2023)/EMERGENCIAS-2003.xls', 561)"
   ]
  },
  {
   "cell_type": "code",
   "execution_count": 6,
   "metadata": {},
   "outputs": [
    {
     "data": {
      "text/plain": [
       "array(['INUNDACION', 'VENDAVAL', 'INCENDIO FORESTAL',\n",
       "       'INCENDIO ESTRUCTURAL', 'CONTAMINACION', 'SISMO', 'DESLIZAMIENTO',\n",
       "       'AVALANCHA', 'ACCIDENTE AEREO', 'ACCIDENTE', 'SEQUIA', 'VARIOS',\n",
       "       'GRANIZADA', 'ANTROPICO', 'COLAPSO ESTRUCTURAL', 'ERUPCION ',\n",
       "       'EXPLOSION'], dtype=object)"
      ]
     },
     "execution_count": 6,
     "metadata": {},
     "output_type": "execute_result"
    }
   ],
   "source": [
    "# df_2003.head()\n",
    "# df_2003.tail()\n",
    "df_2003[\"EVENTO\"].unique()"
   ]
  }
 ],
 "metadata": {
  "kernelspec": {
   "display_name": "Python 3",
   "language": "python",
   "name": "python3"
  },
  "language_info": {
   "codemirror_mode": {
    "name": "ipython",
    "version": 3
   },
   "file_extension": ".py",
   "mimetype": "text/x-python",
   "name": "python",
   "nbconvert_exporter": "python",
   "pygments_lexer": "ipython3",
   "version": "3.12.3"
  }
 },
 "nbformat": 4,
 "nbformat_minor": 2
}
