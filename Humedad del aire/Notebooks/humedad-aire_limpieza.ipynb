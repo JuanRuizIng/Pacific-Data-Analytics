{
 "cells": [
  {
   "cell_type": "markdown",
   "metadata": {},
   "source": [
    "## **Limpieza del CSV de \"Humedad del aire a 2 metros\"**\n",
    "----\n",
    "**Elaborado con base en**\n",
    "* [Humedad del Aire 2 metros | Datos Abiertos Colombia](https://www.datos.gov.co/Ambiente-y-Desarrollo-Sostenible/Humedad-del-Aire-2-metros/uext-mhny/about_data)"
   ]
  },
  {
   "cell_type": "markdown",
   "metadata": {},
   "source": [
    "#### ***Importación de paquetes***"
   ]
  },
  {
   "cell_type": "code",
   "execution_count": 50,
   "metadata": {},
   "outputs": [],
   "source": [
    "import pandas as pd"
   ]
  },
  {
   "cell_type": "markdown",
   "metadata": {},
   "source": [
    "#### ***Cargar el CSV mediante Pandas***"
   ]
  },
  {
   "cell_type": "code",
   "execution_count": 51,
   "metadata": {},
   "outputs": [
    {
     "data": {
      "text/html": [
       "<div>\n",
       "<style scoped>\n",
       "    .dataframe tbody tr th:only-of-type {\n",
       "        vertical-align: middle;\n",
       "    }\n",
       "\n",
       "    .dataframe tbody tr th {\n",
       "        vertical-align: top;\n",
       "    }\n",
       "\n",
       "    .dataframe thead th {\n",
       "        text-align: right;\n",
       "    }\n",
       "</style>\n",
       "<table border=\"1\" class=\"dataframe\">\n",
       "  <thead>\n",
       "    <tr style=\"text-align: right;\">\n",
       "      <th></th>\n",
       "      <th>CodigoEstacion</th>\n",
       "      <th>CodigoSensor</th>\n",
       "      <th>FechaObservacion</th>\n",
       "      <th>ValorObservado</th>\n",
       "      <th>NombreEstacion</th>\n",
       "      <th>Departamento</th>\n",
       "      <th>Municipio</th>\n",
       "      <th>ZonaHidrografica</th>\n",
       "      <th>Latitud</th>\n",
       "      <th>Longitud</th>\n",
       "      <th>DescripcionSensor</th>\n",
       "      <th>UnidadMedida</th>\n",
       "    </tr>\n",
       "  </thead>\n",
       "  <tbody>\n",
       "    <tr>\n",
       "      <th>0</th>\n",
       "      <td>0057025020</td>\n",
       "      <td>27.0</td>\n",
       "      <td>06/28/2008 04:00:00 PM</td>\n",
       "      <td>88.00000</td>\n",
       "      <td>GORGONA GUAPI</td>\n",
       "      <td>CAUCA</td>\n",
       "      <td>GUAPI</td>\n",
       "      <td>GUAVIARE</td>\n",
       "      <td>2.963000</td>\n",
       "      <td>-78.174</td>\n",
       "      <td>Humedad del aire 2 mt</td>\n",
       "      <td>%</td>\n",
       "    </tr>\n",
       "    <tr>\n",
       "      <th>1</th>\n",
       "      <td>0053045040</td>\n",
       "      <td>27.0</td>\n",
       "      <td>12/03/2012 01:00:00 AM</td>\n",
       "      <td>96.00000</td>\n",
       "      <td>AEROPUERTO GUAPI - AUT</td>\n",
       "      <td>CAUCA</td>\n",
       "      <td>GUAPI</td>\n",
       "      <td>TAPAJE - DAGUA - DIRECTOS</td>\n",
       "      <td>2.574417</td>\n",
       "      <td>-77.89475</td>\n",
       "      <td>Humedad del aire 2 mt</td>\n",
       "      <td>%</td>\n",
       "    </tr>\n",
       "    <tr>\n",
       "      <th>2</th>\n",
       "      <td>0021055070</td>\n",
       "      <td>27.0</td>\n",
       "      <td>04/16/2012 08:00:00 PM</td>\n",
       "      <td>85.00000</td>\n",
       "      <td>INZA - AUT</td>\n",
       "      <td>CAUCA</td>\n",
       "      <td>INZÁ</td>\n",
       "      <td>ALTO MAGDALENA</td>\n",
       "      <td>2.548194</td>\n",
       "      <td>-76.06394444</td>\n",
       "      <td>Humedad del aire 2 mt</td>\n",
       "      <td>%</td>\n",
       "    </tr>\n",
       "    <tr>\n",
       "      <th>3</th>\n",
       "      <td>0052025080</td>\n",
       "      <td>27.0</td>\n",
       "      <td>07/15/2014 03:00:00 AM</td>\n",
       "      <td>79.00000</td>\n",
       "      <td>ESTRECHO PATIA  - AUT</td>\n",
       "      <td>CAUCA</td>\n",
       "      <td>PATÍA (EL BORDO)</td>\n",
       "      <td>PATÍA</td>\n",
       "      <td>1.962778</td>\n",
       "      <td>-77.12027778</td>\n",
       "      <td>Humedad del aire 2 mt</td>\n",
       "      <td>%</td>\n",
       "    </tr>\n",
       "    <tr>\n",
       "      <th>4</th>\n",
       "      <td>0052025501</td>\n",
       "      <td>27.0</td>\n",
       "      <td>05/22/2018 07:55:00 PM</td>\n",
       "      <td>87.13305</td>\n",
       "      <td>LA VEGA  - AUT</td>\n",
       "      <td>CAUCA</td>\n",
       "      <td>LA VEGA</td>\n",
       "      <td>PATÍA</td>\n",
       "      <td>2.092942</td>\n",
       "      <td>-76.81202778</td>\n",
       "      <td>Humedad del aire 2 mt</td>\n",
       "      <td>%</td>\n",
       "    </tr>\n",
       "    <tr>\n",
       "      <th>...</th>\n",
       "      <td>...</td>\n",
       "      <td>...</td>\n",
       "      <td>...</td>\n",
       "      <td>...</td>\n",
       "      <td>...</td>\n",
       "      <td>...</td>\n",
       "      <td>...</td>\n",
       "      <td>...</td>\n",
       "      <td>...</td>\n",
       "      <td>...</td>\n",
       "      <td>...</td>\n",
       "      <td>...</td>\n",
       "    </tr>\n",
       "    <tr>\n",
       "      <th>8936971</th>\n",
       "      <td>0053115502</td>\n",
       "      <td>27.0</td>\n",
       "      <td>06/01/2020 12:20:00 PM</td>\n",
       "      <td>89.37495</td>\n",
       "      <td>JULIO FERNANDEZ  - AUT</td>\n",
       "      <td>VALLE DEL CAUCA</td>\n",
       "      <td>RESTREPO</td>\n",
       "      <td>TAPAJE - DAGUA - DIRECTOS</td>\n",
       "      <td>3.809164</td>\n",
       "      <td>-76.5330{</td>\n",
       "      <td>NaN</td>\n",
       "      <td>NaN</td>\n",
       "    </tr>\n",
       "    <tr>\n",
       "      <th>8936972</th>\n",
       "      <td>\"error\" : true</td>\n",
       "      <td>NaN</td>\n",
       "      <td>NaN</td>\n",
       "      <td>NaN</td>\n",
       "      <td>NaN</td>\n",
       "      <td>NaN</td>\n",
       "      <td>NaN</td>\n",
       "      <td>NaN</td>\n",
       "      <td>NaN</td>\n",
       "      <td>NaN</td>\n",
       "      <td>NaN</td>\n",
       "      <td>NaN</td>\n",
       "    </tr>\n",
       "    <tr>\n",
       "      <th>8936973</th>\n",
       "      <td>\"message\" : \"Internal error\"</td>\n",
       "      <td>NaN</td>\n",
       "      <td>NaN</td>\n",
       "      <td>NaN</td>\n",
       "      <td>NaN</td>\n",
       "      <td>NaN</td>\n",
       "      <td>NaN</td>\n",
       "      <td>NaN</td>\n",
       "      <td>NaN</td>\n",
       "      <td>NaN</td>\n",
       "      <td>NaN</td>\n",
       "      <td>NaN</td>\n",
       "    </tr>\n",
       "    <tr>\n",
       "      <th>8936974</th>\n",
       "      <td>\"status\" : 500</td>\n",
       "      <td>NaN</td>\n",
       "      <td>NaN</td>\n",
       "      <td>NaN</td>\n",
       "      <td>NaN</td>\n",
       "      <td>NaN</td>\n",
       "      <td>NaN</td>\n",
       "      <td>NaN</td>\n",
       "      <td>NaN</td>\n",
       "      <td>NaN</td>\n",
       "      <td>NaN</td>\n",
       "      <td>NaN</td>\n",
       "    </tr>\n",
       "    <tr>\n",
       "      <th>8936975</th>\n",
       "      <td>}</td>\n",
       "      <td>NaN</td>\n",
       "      <td>NaN</td>\n",
       "      <td>NaN</td>\n",
       "      <td>NaN</td>\n",
       "      <td>NaN</td>\n",
       "      <td>NaN</td>\n",
       "      <td>NaN</td>\n",
       "      <td>NaN</td>\n",
       "      <td>NaN</td>\n",
       "      <td>NaN</td>\n",
       "      <td>NaN</td>\n",
       "    </tr>\n",
       "  </tbody>\n",
       "</table>\n",
       "<p>8936976 rows × 12 columns</p>\n",
       "</div>"
      ],
      "text/plain": [
       "                         CodigoEstacion  CodigoSensor        FechaObservacion  \\\n",
       "0                            0057025020          27.0  06/28/2008 04:00:00 PM   \n",
       "1                            0053045040          27.0  12/03/2012 01:00:00 AM   \n",
       "2                            0021055070          27.0  04/16/2012 08:00:00 PM   \n",
       "3                            0052025080          27.0  07/15/2014 03:00:00 AM   \n",
       "4                            0052025501          27.0  05/22/2018 07:55:00 PM   \n",
       "...                                 ...           ...                     ...   \n",
       "8936971                      0053115502          27.0  06/01/2020 12:20:00 PM   \n",
       "8936972                  \"error\" : true           NaN                     NaN   \n",
       "8936973    \"message\" : \"Internal error\"           NaN                     NaN   \n",
       "8936974                  \"status\" : 500           NaN                     NaN   \n",
       "8936975                               }           NaN                     NaN   \n",
       "\n",
       "         ValorObservado          NombreEstacion     Departamento  \\\n",
       "0              88.00000           GORGONA GUAPI            CAUCA   \n",
       "1              96.00000  AEROPUERTO GUAPI - AUT            CAUCA   \n",
       "2              85.00000              INZA - AUT            CAUCA   \n",
       "3              79.00000   ESTRECHO PATIA  - AUT            CAUCA   \n",
       "4              87.13305          LA VEGA  - AUT            CAUCA   \n",
       "...                 ...                     ...              ...   \n",
       "8936971        89.37495  JULIO FERNANDEZ  - AUT  VALLE DEL CAUCA   \n",
       "8936972             NaN                     NaN              NaN   \n",
       "8936973             NaN                     NaN              NaN   \n",
       "8936974             NaN                     NaN              NaN   \n",
       "8936975             NaN                     NaN              NaN   \n",
       "\n",
       "                Municipio           ZonaHidrografica   Latitud      Longitud  \\\n",
       "0                   GUAPI                   GUAVIARE  2.963000       -78.174   \n",
       "1                   GUAPI  TAPAJE - DAGUA - DIRECTOS  2.574417     -77.89475   \n",
       "2                    INZÁ             ALTO MAGDALENA  2.548194  -76.06394444   \n",
       "3        PATÍA (EL BORDO)                      PATÍA  1.962778  -77.12027778   \n",
       "4                 LA VEGA                      PATÍA  2.092942  -76.81202778   \n",
       "...                   ...                        ...       ...           ...   \n",
       "8936971          RESTREPO  TAPAJE - DAGUA - DIRECTOS  3.809164     -76.5330{   \n",
       "8936972               NaN                        NaN       NaN           NaN   \n",
       "8936973               NaN                        NaN       NaN           NaN   \n",
       "8936974               NaN                        NaN       NaN           NaN   \n",
       "8936975               NaN                        NaN       NaN           NaN   \n",
       "\n",
       "             DescripcionSensor UnidadMedida  \n",
       "0        Humedad del aire 2 mt            %  \n",
       "1        Humedad del aire 2 mt            %  \n",
       "2        Humedad del aire 2 mt            %  \n",
       "3        Humedad del aire 2 mt            %  \n",
       "4        Humedad del aire 2 mt            %  \n",
       "...                        ...          ...  \n",
       "8936971                    NaN          NaN  \n",
       "8936972                    NaN          NaN  \n",
       "8936973                    NaN          NaN  \n",
       "8936974                    NaN          NaN  \n",
       "8936975                    NaN          NaN  \n",
       "\n",
       "[8936976 rows x 12 columns]"
      ]
     },
     "execution_count": 51,
     "metadata": {},
     "output_type": "execute_result"
    }
   ],
   "source": [
    "df = pd.read_csv(\"../CSV/Humedad_del_Aire_2_metros_20240613.csv\", low_memory=False)\n",
    "df"
   ]
  },
  {
   "cell_type": "markdown",
   "metadata": {},
   "source": [
    "#### ***Liberarnos de ciertas columnas***"
   ]
  },
  {
   "cell_type": "code",
   "execution_count": 52,
   "metadata": {},
   "outputs": [
    {
     "data": {
      "text/html": [
       "<div>\n",
       "<style scoped>\n",
       "    .dataframe tbody tr th:only-of-type {\n",
       "        vertical-align: middle;\n",
       "    }\n",
       "\n",
       "    .dataframe tbody tr th {\n",
       "        vertical-align: top;\n",
       "    }\n",
       "\n",
       "    .dataframe thead th {\n",
       "        text-align: right;\n",
       "    }\n",
       "</style>\n",
       "<table border=\"1\" class=\"dataframe\">\n",
       "  <thead>\n",
       "    <tr style=\"text-align: right;\">\n",
       "      <th></th>\n",
       "      <th>FechaObservacion</th>\n",
       "      <th>ValorObservado</th>\n",
       "      <th>Departamento</th>\n",
       "      <th>Municipio</th>\n",
       "      <th>ZonaHidrografica</th>\n",
       "      <th>Latitud</th>\n",
       "      <th>Longitud</th>\n",
       "    </tr>\n",
       "  </thead>\n",
       "  <tbody>\n",
       "    <tr>\n",
       "      <th>0</th>\n",
       "      <td>06/28/2008 04:00:00 PM</td>\n",
       "      <td>88.00000</td>\n",
       "      <td>CAUCA</td>\n",
       "      <td>GUAPI</td>\n",
       "      <td>GUAVIARE</td>\n",
       "      <td>2.963000</td>\n",
       "      <td>-78.174</td>\n",
       "    </tr>\n",
       "    <tr>\n",
       "      <th>1</th>\n",
       "      <td>12/03/2012 01:00:00 AM</td>\n",
       "      <td>96.00000</td>\n",
       "      <td>CAUCA</td>\n",
       "      <td>GUAPI</td>\n",
       "      <td>TAPAJE - DAGUA - DIRECTOS</td>\n",
       "      <td>2.574417</td>\n",
       "      <td>-77.89475</td>\n",
       "    </tr>\n",
       "    <tr>\n",
       "      <th>2</th>\n",
       "      <td>04/16/2012 08:00:00 PM</td>\n",
       "      <td>85.00000</td>\n",
       "      <td>CAUCA</td>\n",
       "      <td>INZÁ</td>\n",
       "      <td>ALTO MAGDALENA</td>\n",
       "      <td>2.548194</td>\n",
       "      <td>-76.06394444</td>\n",
       "    </tr>\n",
       "    <tr>\n",
       "      <th>3</th>\n",
       "      <td>07/15/2014 03:00:00 AM</td>\n",
       "      <td>79.00000</td>\n",
       "      <td>CAUCA</td>\n",
       "      <td>PATÍA (EL BORDO)</td>\n",
       "      <td>PATÍA</td>\n",
       "      <td>1.962778</td>\n",
       "      <td>-77.12027778</td>\n",
       "    </tr>\n",
       "    <tr>\n",
       "      <th>4</th>\n",
       "      <td>05/22/2018 07:55:00 PM</td>\n",
       "      <td>87.13305</td>\n",
       "      <td>CAUCA</td>\n",
       "      <td>LA VEGA</td>\n",
       "      <td>PATÍA</td>\n",
       "      <td>2.092942</td>\n",
       "      <td>-76.81202778</td>\n",
       "    </tr>\n",
       "  </tbody>\n",
       "</table>\n",
       "</div>"
      ],
      "text/plain": [
       "         FechaObservacion  ValorObservado Departamento         Municipio  \\\n",
       "0  06/28/2008 04:00:00 PM        88.00000        CAUCA             GUAPI   \n",
       "1  12/03/2012 01:00:00 AM        96.00000        CAUCA             GUAPI   \n",
       "2  04/16/2012 08:00:00 PM        85.00000        CAUCA              INZÁ   \n",
       "3  07/15/2014 03:00:00 AM        79.00000        CAUCA  PATÍA (EL BORDO)   \n",
       "4  05/22/2018 07:55:00 PM        87.13305        CAUCA           LA VEGA   \n",
       "\n",
       "            ZonaHidrografica   Latitud      Longitud  \n",
       "0                   GUAVIARE  2.963000       -78.174  \n",
       "1  TAPAJE - DAGUA - DIRECTOS  2.574417     -77.89475  \n",
       "2             ALTO MAGDALENA  2.548194  -76.06394444  \n",
       "3                      PATÍA  1.962778  -77.12027778  \n",
       "4                      PATÍA  2.092942  -76.81202778  "
      ]
     },
     "execution_count": 52,
     "metadata": {},
     "output_type": "execute_result"
    }
   ],
   "source": [
    "df = df.drop([\"CodigoSensor\", \"CodigoEstacion\", \"NombreEstacion\", \"DescripcionSensor\", \"UnidadMedida\"], axis=1)\n",
    "df.head()"
   ]
  },
  {
   "cell_type": "markdown",
   "metadata": {},
   "source": [
    "#### ***Enfocarnos en los departamentos de la región Pacífica***"
   ]
  },
  {
   "cell_type": "code",
   "execution_count": 53,
   "metadata": {},
   "outputs": [
    {
     "data": {
      "text/plain": [
       "Departamento\n",
       "VALLE DEL CAUCA    3502675\n",
       "NARIÑO             2178996\n",
       "CAUCA              2133539\n",
       "CHOCO               648614\n",
       "CHOCÓ               445428\n",
       "NARINO               27720\n",
       "Name: count, dtype: int64"
      ]
     },
     "execution_count": 53,
     "metadata": {},
     "output_type": "execute_result"
    }
   ],
   "source": [
    "#df.head()\n",
    "df[\"Departamento\"].value_counts()"
   ]
  },
  {
   "cell_type": "markdown",
   "metadata": {},
   "source": [
    "#### ***Limpieza en los departamentos***"
   ]
  },
  {
   "cell_type": "code",
   "execution_count": 54,
   "metadata": {},
   "outputs": [
    {
     "data": {
      "text/plain": [
       "Departamento\n",
       "VALLE DEL CAUCA    3502675\n",
       "NARIÑO             2206716\n",
       "CAUCA              2133539\n",
       "CHOCÓ              1094042\n",
       "Name: count, dtype: int64"
      ]
     },
     "execution_count": 54,
     "metadata": {},
     "output_type": "execute_result"
    }
   ],
   "source": [
    "diccionario_reemplazo = {\n",
    "    \"CHOCO\": \"CHOCÓ\",\n",
    "    \"NARINO\": \"NARIÑO\"\n",
    "}\n",
    "\n",
    "df[\"Departamento\"] = df[\"Departamento\"].replace(diccionario_reemplazo)\n",
    "df[\"Departamento\"].value_counts()"
   ]
  },
  {
   "cell_type": "markdown",
   "metadata": {},
   "source": [
    "#### ***Transformar el formato de la fecha y añadir columnas \"Año\" y \"Mes\"***"
   ]
  },
  {
   "cell_type": "code",
   "execution_count": 55,
   "metadata": {},
   "outputs": [],
   "source": [
    "df[\"FechaObservacion\"] = df[\"FechaObservacion\"].astype(str)\n",
    "df[\"FechaObservacion\"] = df[\"FechaObservacion\"].str.split(' ').str[0]\n",
    "\n",
    "df[\"FechaObservacion\"] = pd.to_datetime(df[\"FechaObservacion\"])\n",
    "\n",
    "df[\"Año\"] = df[\"FechaObservacion\"].dt.year\n",
    "df[\"Mes\"] = df[\"FechaObservacion\"].dt.month\n",
    "\n",
    "df[\"FechaObservacion\"] = df[\"FechaObservacion\"].dt.date"
   ]
  },
  {
   "cell_type": "code",
   "execution_count": 56,
   "metadata": {},
   "outputs": [],
   "source": [
    "df = df.dropna()\n",
    "df = df[df != '']\n",
    "\n",
    "if df is not None:\n",
    "    df['Año'] = df['Año'].astype(int, errors='ignore')\n",
    "    df['Mes'] = df['Mes'].astype(int, errors='ignore')\n",
    "\n",
    "# Reorganizar las columnas\n",
    "cols = ['Año', 'Mes'] + [col for col in df.columns if col not in ['Año', 'Mes']]\n",
    "df = df[cols]\n",
    "\n",
    "# Organizar los años y los meses de manera ascendente\n",
    "df = df.sort_values(by=['Año', 'Mes'], ascending=[True, True])"
   ]
  },
  {
   "cell_type": "markdown",
   "metadata": {},
   "source": [
    "#### ***Eliminar datos que no se encuentren en el rango de año de 2005 a 2023***"
   ]
  },
  {
   "cell_type": "code",
   "execution_count": 57,
   "metadata": {},
   "outputs": [
    {
     "data": {
      "text/plain": [
       "Año\n",
       "2019    1633556\n",
       "2018    1431195\n",
       "2017    1333443\n",
       "2020     865499\n",
       "2016     692964\n",
       "2021     400154\n",
       "2022     370382\n",
       "2023     340373\n",
       "2015     203759\n",
       "2014     199586\n",
       "2009     186174\n",
       "2010     182552\n",
       "2008     181895\n",
       "2013     160584\n",
       "2007     159234\n",
       "2011     154969\n",
       "2006     133121\n",
       "2012     128264\n",
       "2005      45184\n",
       "Name: count, dtype: int64"
      ]
     },
     "execution_count": 57,
     "metadata": {},
     "output_type": "execute_result"
    }
   ],
   "source": [
    "df = df[(df['Año'] >= 2005) & (df['Año'] <= 2023)]\n",
    "df[\"Año\"].value_counts()"
   ]
  },
  {
   "cell_type": "markdown",
   "metadata": {},
   "source": [
    "#### ***Guardar la nueva versión del dataset***"
   ]
  },
  {
   "cell_type": "code",
   "execution_count": 60,
   "metadata": {},
   "outputs": [],
   "source": [
    "df.to_csv(\"../HumedadAire_RegionPacifico.csv\", index=False)"
   ]
  }
 ],
 "metadata": {
  "kernelspec": {
   "display_name": "Python 3",
   "language": "python",
   "name": "python3"
  },
  "language_info": {
   "codemirror_mode": {
    "name": "ipython",
    "version": 3
   },
   "file_extension": ".py",
   "mimetype": "text/x-python",
   "name": "python",
   "nbconvert_exporter": "python",
   "pygments_lexer": "ipython3",
   "version": "3.12.3"
  }
 },
 "nbformat": 4,
 "nbformat_minor": 2
}
